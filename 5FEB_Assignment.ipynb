{
 "cells": [
  {
   "cell_type": "code",
   "execution_count": 1,
   "id": "71143b42-13fa-4c25-b932-8150b580a9ba",
   "metadata": {},
   "outputs": [
    {
     "name": "stdout",
     "output_type": "stream",
     "text": [
      "Name: John , Age: 30\n",
      "Name: Jane , Age: 25\n"
     ]
    }
   ],
   "source": [
    "\"\"\"Q1. Explain Class and Object with respect to Object-Oriented Programming. Give a suitable example.\n",
    "In Python, a class is a blueprint or a template for creating objects, which defines a set of \n",
    "attributes and methods that the objects of that class will have. An object, on the other hand, is an\n",
    "instance of a class that has its own unique set of attributes and methods.\n",
    "\n",
    "In object-oriented programming (OOP), a class is a blueprint or template for creating objects,\n",
    "which are instances of the class. A class defines the properties and methods that the objects will have. \n",
    "The properties are the attributes or variables that define the object's state, while the methods are the \n",
    "functions that define the object's behavior.\n",
    "\n",
    "An object is an instance of a class that has its own state and behavior. \n",
    "Each object of a class can have different values for its attributes, but it will \n",
    "have the same set of methods defined by its class.\"\"\"\n",
    "\n",
    "\n",
    "class Person:\n",
    "    def __init__(self, name, age):\n",
    "        self.name = name\n",
    "        self.age = age\n",
    "\n",
    "    def display(self):\n",
    "        print(\"Name:\", self.name, \", Age:\", self.age)\n",
    "\n",
    "# create two objects of the Person class\n",
    "person1 = Person(\"John\", 30)\n",
    "person2 = Person(\"Jane\", 25)\n",
    "\n",
    "# calling the display method of the Person class for each object\n",
    "person1.display()\n",
    "person2.display()\n"
   ]
  },
  {
   "cell_type": "code",
   "execution_count": 3,
   "id": "715dcab6-8aea-45da-b2b4-347db1b8dfe1",
   "metadata": {},
   "outputs": [
    {
     "name": "stdout",
     "output_type": "stream",
     "text": [
      "Tesla Model S 2022\n",
      "This car has 0 miles on it.\n"
     ]
    }
   ],
   "source": [
    "\"\"\"Q.2 Name the four pillars of OOPs.\n",
    "The four pillars of Object-Oriented Programming (OOP) in Python  are:\n",
    "\n",
    "Encapsulation: This refers to the concept of bundling data and methods that operate on that \n",
    "data within one unit, and restricting access to the data from outside that unit. \n",
    "In Python, this can be achieved through the use of classes and access modifiers such as\n",
    "public, private, and protected.\n",
    "\n",
    "Inheritance: This refers to the ability of one class (the child or derived class) to inherit properties\n",
    "and behaviors from another class (the parent or base class). In Python, inheritance can be implemented \n",
    "using the \"class DerivedClass(BaseClass)\" syntax.\n",
    "\n",
    "Polymorphism: This refers to the ability of objects of different classes to be used interchangeably,\n",
    "as long as they have a common interface or parent class. In Python, polymorphism can be achieved \n",
    "through method overriding, method overloading, and duck typing.\n",
    "\n",
    "Abstraction: This refers to the concept of representing complex real-world entities as simplified models\n",
    "or abstract concepts in code. In Python, abstraction can be achieved through the use of \n",
    "abstract classes and interfaces, as well as the practice of breaking down complex systems into \n",
    "smaller, more manageable parts.\"\"\"\n",
    "\n",
    "\n",
    "\n",
    "\n",
    "\n",
    "\n",
    "\"\"\"Q3. Explain why the __init__() function is used. Give a suitable example.\n",
    "In object-oriented programming, the __init__() function is a constructor method that is\n",
    "called when an object of a class is created. It is used to initialize the attributes of the object.\n",
    "\n",
    "The __init__() function is used to provide default values for an object's attributes,\n",
    "so that each object doesn't have to be initialized separately. It is a special method \n",
    "in Python classes and is always called when an object is created.\n",
    "\n",
    "Here is an example that demonstrates the use of the __init__() function in a Python class:\"\"\"\n",
    "class Car:\n",
    "    def __init__(self, make, model, year):\n",
    "        self.make = make\n",
    "        self.model = model\n",
    "        self.year = year\n",
    "        self.odometer_reading = 0\n",
    "\n",
    "    def get_description(self):\n",
    "        description = f\"{self.make} {self.model} {self.year}\"\n",
    "        return description\n",
    "\n",
    "    def read_odometer(self):\n",
    "        print(f\"This car has {self.odometer_reading} miles on it.\")\n",
    "\n",
    "my_car = Car('Tesla', 'Model S', 2022)\n",
    "print(my_car.get_description())\n",
    "my_car.read_odometer()\n"
   ]
  },
  {
   "cell_type": "code",
   "execution_count": 4,
   "id": "d7c682fc-2e01-43de-a1e3-b2f710351c74",
   "metadata": {},
   "outputs": [
    {
     "name": "stdout",
     "output_type": "stream",
     "text": [
      "Alice\n",
      "Bob\n"
     ]
    }
   ],
   "source": [
    "\"\"\"  Q4. Why self is used in OOPs?\n",
    "In Python, self is used to refer to the instance of a class. It is a reference \n",
    "to the object that the method is called on. \n",
    "When a method is called on an object, the self parameter\n",
    "is automatically passed in to the method to reference that particular instance of the class.\n",
    "\n",
    "Using self is important in OOP because it allows each instance of a\n",
    "class to have its own set of data and properties. Without self, it would not be possible\n",
    "to distinguish between different instances of a class, and all objects would have the same data and properties.\n",
    "\n",
    "For example, let's say we have a Person class with a name attribute. \n",
    "If we create two instances of the Person class, we need to use self to set the name attribute\n",
    "for each instance separately. Here's an example:\"\"\"\n",
    "class Person:\n",
    "    def __init__(self, name):\n",
    "        self.name = name\n",
    "\n",
    "person1 = Person(\"Alice\")\n",
    "person2 = Person(\"Bob\")\n",
    "\n",
    "print(person1.name)  # Output: \"Alice\"\n",
    "print(person2.name)  # Output: \"Bob\"\n"
   ]
  },
  {
   "cell_type": "code",
   "execution_count": 5,
   "id": "684b1295-9176-498f-8ad9-65f92aa6adb1",
   "metadata": {},
   "outputs": [
    {
     "name": "stdout",
     "output_type": "stream",
     "text": [
      "50\n"
     ]
    }
   ],
   "source": [
    "\"\"\" Q5. What is inheritance? Give an example for each type of inheritance.\n",
    "Inheritance is a fundamental concept in object-oriented programming (OOP) \n",
    "that allows a new class to be based on an existing class, inheriting its properties and methods.\n",
    "The existing class is called the parent or base class, and the new class is called the child or derived class.\n",
    "Inheritance helps in code reusability and saves time in code development.\n",
    "\n",
    "There are different types of inheritance in Python:\n",
    "\n",
    "Single Inheritance:\n",
    "Single inheritance is the simplest type of inheritance in which a derived class\n",
    "inherits the properties and methods of a single base class.   \"\"\"\n",
    "class Shape:\n",
    "    def __init__(self, x, y):\n",
    "        self.x = x\n",
    "        self.y = y\n",
    "\n",
    "    def area(self):\n",
    "        pass\n",
    "\n",
    "class Rectangle(Shape):\n",
    "    def __init__(self, x, y, width, height):\n",
    "        super().__init__(x, y)\n",
    "        self.width = width\n",
    "        self.height = height\n",
    "\n",
    "    def area(self):\n",
    "        return self.width * self.height\n",
    "\n",
    "rect = Rectangle(0, 0, 5, 10)\n",
    "print(rect.area())  # Output: 50\n",
    "\n"
   ]
  },
  {
   "cell_type": "code",
   "execution_count": 6,
   "id": "c959b7ba-0c32-46ca-a7ff-6a4c67eb78ef",
   "metadata": {},
   "outputs": [
    {
     "name": "stdout",
     "output_type": "stream",
     "text": [
      "Function 1\n",
      "Function 2\n",
      "Function 3\n"
     ]
    }
   ],
   "source": [
    "\"\"\"\n",
    "Multiple Inheritance:\n",
    "Multiple inheritance is a type of inheritance in which a derived class\n",
    "inherits properties and methods from multiple base classes.\"\"\"\n",
    "class A:\n",
    "    def func1(self):\n",
    "        print(\"Function 1\")\n",
    "\n",
    "class B:\n",
    "    def func2(self):\n",
    "        print(\"Function 2\")\n",
    "\n",
    "class C(A, B):\n",
    "    def func3(self):\n",
    "        print(\"Function 3\")\n",
    "\n",
    "c = C()\n",
    "c.func1()  # Output: Function 1\n",
    "c.func2()  # Output: Function 2\n",
    "c.func3()  # Output: Function 3\n"
   ]
  },
  {
   "cell_type": "code",
   "execution_count": 7,
   "id": "a15daa16-172e-4996-94d9-ca68583a5ed2",
   "metadata": {},
   "outputs": [
    {
     "name": "stdout",
     "output_type": "stream",
     "text": [
      "Bark\n",
      "Woof\n"
     ]
    }
   ],
   "source": [
    "\"\"\"  Multi-level Inheritance:\n",
    "Multi-level inheritance is a type of inheritance in which a \n",
    "derived class inherits from another derived class.\n",
    "\"\"\"\n",
    "class Animal:\n",
    "    def __init__(self, name):\n",
    "        self.name = name\n",
    "\n",
    "    def speak(self):\n",
    "        pass\n",
    "\n",
    "class Dog(Animal):\n",
    "    def speak(self):\n",
    "        return \"Bark\"\n",
    "\n",
    "class GoldenRetriever(Dog):\n",
    "    def __init__(self, name):\n",
    "        super().__init__(name)\n",
    "\n",
    "    def speak(self):\n",
    "        return \"Woof\"\n",
    "\n",
    "dog = Dog(\"Fido\")\n",
    "print(dog.speak())  # Output: Bark\n",
    "\n",
    "gr = GoldenRetriever(\"Buddy\")\n",
    "print(gr.speak())   # Output: Woof\n"
   ]
  },
  {
   "cell_type": "code",
   "execution_count": 8,
   "id": "68a539c8-0ff4-4659-970d-5b48beab57ab",
   "metadata": {},
   "outputs": [
    {
     "name": "stdout",
     "output_type": "stream",
     "text": [
      "Meow\n",
      "Roar\n"
     ]
    }
   ],
   "source": [
    "\"\"\" Hierarchical Inheritance:\n",
    "Hierarchical inheritance is a type of inheritance \n",
    "in which multiple derived classes inherit properties and methods from a single base class.\"\"\"\n",
    "\n",
    "class Animal:\n",
    "    def __init__(self, name):\n",
    "        self.name = name\n",
    "\n",
    "    def speak(self):\n",
    "        pass\n",
    "\n",
    "class Cat(Animal):\n",
    "    def speak(self):\n",
    "        return \"Meow\"\n",
    "\n",
    "class Lion(Animal):\n",
    "    def speak(self):\n",
    "        return \"Roar\"\n",
    "\n",
    "cat = Cat(\"Tom\")\n",
    "print(cat.speak())  # Output: Meow\n",
    "\n",
    "lion = Lion(\"Simba\")\n",
    "print(lion.speak())  # Output: Roar\n"
   ]
  },
  {
   "cell_type": "code",
   "execution_count": null,
   "id": "325c7091-b491-4ae7-adc0-d67f15aef194",
   "metadata": {},
   "outputs": [],
   "source": []
  }
 ],
 "metadata": {
  "kernelspec": {
   "display_name": "Python 3 (ipykernel)",
   "language": "python",
   "name": "python3"
  },
  "language_info": {
   "codemirror_mode": {
    "name": "ipython",
    "version": 3
   },
   "file_extension": ".py",
   "mimetype": "text/x-python",
   "name": "python",
   "nbconvert_exporter": "python",
   "pygments_lexer": "ipython3",
   "version": "3.10.8"
  }
 },
 "nbformat": 4,
 "nbformat_minor": 5
}
